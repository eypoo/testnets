{
  "cells": [
    {
      "cell_type": "markdown",
      "metadata": {
        "id": "view-in-github",
        "colab_type": "text"
      },
      "source": [
        "<a href=\"https://colab.research.google.com/github/eypoo/testnets/blob/main/Colaboratory'ye_Ho%C5%9F_Geldiniz_adl%C4%B1_not_defterinin_kopyas%C4%B1.ipynb\" target=\"_parent\"><img src=\"https://colab.research.google.com/assets/colab-badge.svg\" alt=\"Open In Colab\"/></a>"
      ]
    },
    {
      "cell_type": "code",
      "source": [
        "a = set(\"philedphia\")\n",
        "b = set(\"dolphin\")\n",
        "print(a)\n",
        "print(b)\n",
        "print(b-a)\n",
        "print(a-b)\n",
        "\n"
      ],
      "metadata": {
        "id": "ixPREXiXJ3lY",
        "outputId": "4b647f08-868c-43a2-b90a-761ee9beffe4",
        "colab": {
          "base_uri": "https://localhost:8080/"
        }
      },
      "execution_count": null,
      "outputs": [
        {
          "output_type": "stream",
          "name": "stdout",
          "text": [
            "{'h', 'p', 'a', 'e', 'l', 'd', 'i'}\n",
            "{'o', 'p', 'i', 'n', 'l', 'd', 'h'}\n",
            "{'o', 'n'}\n",
            "{'e', 'a'}\n"
          ]
        }
      ]
    },
    {
      "cell_type": "code",
      "source": [
        "bool(a-b)"
      ],
      "metadata": {
        "id": "32a-WHDSO4M8",
        "outputId": "27849216-2b38-43fb-86c6-49770e1258c6",
        "colab": {
          "base_uri": "https://localhost:8080/"
        }
      },
      "execution_count": null,
      "outputs": [
        {
          "output_type": "execute_result",
          "data": {
            "text/plain": [
              "True"
            ]
          },
          "metadata": {},
          "execution_count": 3
        }
      ]
    },
    {
      "cell_type": "code",
      "source": [
        "print(a|b)"
      ],
      "metadata": {
        "id": "sDvWPo-yP3a_",
        "outputId": "b2db0512-8cb2-4630-80e6-54e0fc37db22",
        "colab": {
          "base_uri": "https://localhost:8080/"
        }
      },
      "execution_count": null,
      "outputs": [
        {
          "output_type": "stream",
          "name": "stdout",
          "text": [
            "{'o', 'h', 'p', 'a', 'e', 'n', 'l', 'd', 'i'}\n"
          ]
        }
      ]
    },
    {
      "cell_type": "code",
      "source": [
        "print(a&b)\n"
      ],
      "metadata": {
        "id": "WexF4fvBQj8b",
        "outputId": "fc2055ca-6b6d-4781-8132-103d2eba47aa",
        "colab": {
          "base_uri": "https://localhost:8080/"
        }
      },
      "execution_count": null,
      "outputs": [
        {
          "output_type": "stream",
          "name": "stdout",
          "text": [
            "{'p', 'i', 'l', 'd', 'h'}\n"
          ]
        }
      ]
    },
    {
      "cell_type": "code",
      "source": [
        "x = set(\"TWELVE PLUS ONE\")\n",
        "y = set(\"ELEVEN PLUS TWO\")\n",
        "print(x)\n",
        "print(y)\n",
        "if x==y :\n",
        "  print(\"we are the same!\")\n",
        "\n"
      ],
      "metadata": {
        "id": "r3EyzYPvnxZM",
        "outputId": "17618fe4-e884-4920-f6b9-24052767b560",
        "colab": {
          "base_uri": "https://localhost:8080/"
        }
      },
      "execution_count": null,
      "outputs": [
        {
          "output_type": "stream",
          "name": "stdout",
          "text": [
            "{'E', 'W', 'V', 'S', 'U', 'N', 'L', 'O', 'T', ' ', 'P'}\n",
            "{'E', 'S', 'V', 'N', 'U', 'W', 'L', 'O', 'T', ' ', 'P'}\n",
            "we are the same!\n"
          ]
        }
      ]
    },
    {
      "cell_type": "code",
      "source": [
        "convert = input(\"enter yes or no : \").title().strip()\n",
        "if convert == 'Yes':\n",
        "  print(\"You entered True\")\n",
        "  \n"
      ],
      "metadata": {
        "colab": {
          "base_uri": "https://localhost:8080/"
        },
        "id": "u2IwkC8Z3wcE",
        "outputId": "69121535-a88c-45ef-cf16-0bb46b7d6aed"
      },
      "execution_count": null,
      "outputs": [
        {
          "output_type": "stream",
          "name": "stdout",
          "text": [
            "enter yes or no :  YES\n",
            "You entered True\n"
          ]
        }
      ]
    },
    {
      "cell_type": "code",
      "source": [
        "k = int(input(\"bir sayi giriniz:\"))\n",
        "if k%2 == 0 :\n",
        "  print(f'{k} is even')\n",
        "else:\n",
        "    print(f'{k} is odd')\n"
      ],
      "metadata": {
        "colab": {
          "base_uri": "https://localhost:8080/"
        },
        "id": "eTDUvJFh3wWL",
        "outputId": "8b30ed2c-17b8-4c7c-fb95-f3e9067b1b39"
      },
      "execution_count": null,
      "outputs": [
        {
          "output_type": "stream",
          "name": "stdout",
          "text": [
            "bir sayi giriniz:8\n",
            "8 is even\n"
          ]
        }
      ]
    },
    {
      "cell_type": "code",
      "source": [
        "k = int(input(\"0 dan farkli sayi giriniz:\"))\n",
        "if k > 0 :\n",
        "  print(f'{k} is positive')\n",
        "else:\n",
        "    print(f'{k} is negative')\n"
      ],
      "metadata": {
        "colab": {
          "base_uri": "https://localhost:8080/"
        },
        "id": "ybbRStoC3wRy",
        "outputId": "c23e5f1f-2165-405c-9f7d-fa73771bee3c"
      },
      "execution_count": null,
      "outputs": [
        {
          "output_type": "stream",
          "name": "stdout",
          "text": [
            "0 dan farkli sayi giriniz:-3\n",
            "-3 is negative\n"
          ]
        }
      ]
    },
    {
      "cell_type": "code",
      "source": [
        "k = float(input(\"sayi giriniz:\"))\n",
        "t = float(input(\"sayi giriniz:\"))\n",
        "if k > t  :\n",
        "  print(f'{k} is large number')\n",
        "else:\n",
        "    print(f'{t} is large number')\n"
      ],
      "metadata": {
        "colab": {
          "base_uri": "https://localhost:8080/"
        },
        "id": "q-r5Nas33wKT",
        "outputId": "efed74d9-82e1-4d76-f661-b443c2b140aa"
      },
      "execution_count": null,
      "outputs": [
        {
          "output_type": "stream",
          "name": "stdout",
          "text": [
            "sayi giriniz:6\n",
            "sayi giriniz:8\n",
            "8.0 is large number\n"
          ]
        }
      ]
    },
    {
      "cell_type": "code",
      "source": [
        "names = ['ahmet', 'aisha', 'adam', 'joseph']\n",
        "for i in names :\n",
        "  print(f'hello {i}')"
      ],
      "metadata": {
        "id": "sYZjUscz3wFd",
        "colab": {
          "base_uri": "https://localhost:8080/"
        },
        "outputId": "590efbd5-8f1c-4e7b-f108-466591333aaa"
      },
      "execution_count": null,
      "outputs": [
        {
          "output_type": "stream",
          "name": "stdout",
          "text": [
            "hello ahmet\n",
            "hello aisha\n",
            "hello adam\n",
            "hello joseph\n"
          ]
        }
      ]
    },
    {
      "cell_type": "code",
      "source": [
        "numbers = []\n",
        "for i in range(1,6) :\n",
        "  numbers.append(i)\n",
        "print(numbers)  \n"
      ],
      "metadata": {
        "id": "LrPQbkr23wAt",
        "colab": {
          "base_uri": "https://localhost:8080/"
        },
        "outputId": "00769c89-a6bb-44b5-a912-b6eed517ec30"
      },
      "execution_count": null,
      "outputs": [
        {
          "output_type": "stream",
          "name": "stdout",
          "text": [
            "[1, 2, 3, 4, 5]\n"
          ]
        }
      ]
    },
    {
      "cell_type": "code",
      "source": [
        "word =input('give me a word: ')\n",
        "counter = 0\n",
        "for i in word :\n",
        "  counter += 1\n",
        "  if counter < len(word) :\n",
        "    i = i + '-'\n",
        "  print(i, end=\"\")\n"
      ],
      "metadata": {
        "id": "7afLNccA3vyG",
        "colab": {
          "base_uri": "https://localhost:8080/"
        },
        "outputId": "f8575f1c-197d-4c4d-a3ca-2c92b4bc3295"
      },
      "execution_count": null,
      "outputs": [
        {
          "output_type": "stream",
          "name": "stdout",
          "text": [
            "give me a word: clarusway\n",
            "c-l-a-r-u-s-w-a-y"
          ]
        }
      ]
    },
    {
      "cell_type": "code",
      "source": [
        "evens = []\n",
        "odds = []\n",
        "for i in range(1,11) :\n",
        "  if i % 2 == 0 :\n",
        "    evens.append(i)\n",
        "  else:\n",
        "    odds.append(i)\n",
        "print(\"evens : \", evens)\n",
        "print(\"odds : \", odds)\n",
        "\n"
      ],
      "metadata": {
        "id": "YXsQO1lW3vna",
        "colab": {
          "base_uri": "https://localhost:8080/"
        },
        "outputId": "1f7c9feb-bb0c-4843-d9fa-df68cc4f4b29"
      },
      "execution_count": null,
      "outputs": [
        {
          "output_type": "stream",
          "name": "stdout",
          "text": [
            "evens :  [2, 4, 6, 8, 10]\n",
            "odds :  [1, 3, 5, 7, 9]\n"
          ]
        }
      ]
    },
    {
      "cell_type": "code",
      "source": [
        "yeni_listt = [11,2,24,61,48,33,3]\n",
        "ciftler = []\n",
        "tekler = []\n",
        "for i in yeni_listt :\n",
        "  if i % 2 == 0 :\n",
        "    ciftler.append(i)\n",
        "  else :\n",
        "    tekler.append(i)\n",
        "print(\"the number of even number : \", len(ciftler))\n",
        "print(\"the number of odd number : \", len(tekler))"
      ],
      "metadata": {
        "id": "sZkaZa8m3vFo",
        "colab": {
          "base_uri": "https://localhost:8080/"
        },
        "outputId": "5c361505-4cb3-492d-c974-9254bf4a0284"
      },
      "execution_count": null,
      "outputs": [
        {
          "output_type": "stream",
          "name": "stdout",
          "text": [
            "the number of even number :  3\n",
            "the number of odd number :  4\n"
          ]
        }
      ]
    },
    {
      "cell_type": "code",
      "source": [
        ""
      ],
      "metadata": {
        "id": "KZM_zCxyLWT1"
      },
      "execution_count": null,
      "outputs": []
    },
    {
      "cell_type": "code",
      "source": [
        ""
      ],
      "metadata": {
        "id": "IU2uhhxbLWQs"
      },
      "execution_count": null,
      "outputs": []
    },
    {
      "cell_type": "code",
      "source": [
        "liist = [1,2,3,4,5,6]\n",
        "[(i**2) for i in liist if i% 2]"
      ],
      "metadata": {
        "id": "V2fMBghi3uFt",
        "colab": {
          "base_uri": "https://localhost:8080/"
        },
        "outputId": "cc77acee-82ff-4858-e5a7-83df1b97cd17"
      },
      "execution_count": null,
      "outputs": [
        {
          "output_type": "execute_result",
          "data": {
            "text/plain": [
              "[1, 9, 25]"
            ]
          },
          "metadata": {},
          "execution_count": 6
        }
      ]
    },
    {
      "cell_type": "code",
      "source": [
        "def functioner(emoji) :\n",
        "  return lambda x : x + \" \" + emoji\n",
        "myprint_smile = functioner(':)')\n",
        "myprint_sad = functioner(':(')\n",
        "myprint_neutral = functioner(':|')\n",
        "myprint_smile('hello')\n",
        "myprint_sad('hello')\n",
        "myprint_neutral('hello')\n",
        "print(myprint_neutral(\"hello\"),myprint_sad('hello'),myprint_smile('hello'), sep=\"\\n\")\n"
      ],
      "metadata": {
        "id": "_4o8muR-LWNy",
        "colab": {
          "base_uri": "https://localhost:8080/"
        },
        "outputId": "4d0773dc-6c65-4c8e-ca01-3b57d4c8dc1e"
      },
      "execution_count": null,
      "outputs": [
        {
          "output_type": "stream",
          "name": "stdout",
          "text": [
            "hello :|\n",
            "hello :(\n",
            "hello :)\n"
          ]
        }
      ]
    },
    {
      "cell_type": "code",
      "source": [
        ""
      ],
      "metadata": {
        "id": "MaPm5IBELWLK"
      },
      "execution_count": null,
      "outputs": []
    },
    {
      "cell_type": "code",
      "source": [
        ""
      ],
      "metadata": {
        "id": "YhQvWHO0LWHi"
      },
      "execution_count": null,
      "outputs": []
    },
    {
      "cell_type": "code",
      "source": [
        ""
      ],
      "metadata": {
        "id": "i6p8zLAhs5W3"
      },
      "execution_count": null,
      "outputs": []
    },
    {
      "cell_type": "code",
      "source": [
        ""
      ],
      "metadata": {
        "id": "JpWIMiSDs5UQ"
      },
      "execution_count": null,
      "outputs": []
    },
    {
      "cell_type": "code",
      "source": [
        ""
      ],
      "metadata": {
        "id": "zJ5lAndZs5Rc"
      },
      "execution_count": null,
      "outputs": []
    },
    {
      "cell_type": "code",
      "source": [
        ""
      ],
      "metadata": {
        "id": "jTZCJCros5O0"
      },
      "execution_count": null,
      "outputs": []
    },
    {
      "cell_type": "code",
      "source": [
        ""
      ],
      "metadata": {
        "id": "Q86kqhDCs5L5"
      },
      "execution_count": null,
      "outputs": []
    },
    {
      "cell_type": "code",
      "source": [
        ""
      ],
      "metadata": {
        "id": "rXpx_wD3s5Hm"
      },
      "execution_count": null,
      "outputs": []
    },
    {
      "cell_type": "code",
      "source": [
        ""
      ],
      "metadata": {
        "id": "okts6Th2LWEk"
      },
      "execution_count": null,
      "outputs": []
    },
    {
      "cell_type": "code",
      "source": [
        ""
      ],
      "metadata": {
        "id": "ccfluToqLV1r"
      },
      "execution_count": null,
      "outputs": []
    }
  ],
  "metadata": {
    "colab": {
      "collapsed_sections": [],
      "name": "Colaboratory'ye Hoş Geldiniz adlı not defterinin kopyası",
      "provenance": [],
      "include_colab_link": true
    },
    "kernelspec": {
      "display_name": "Python 3",
      "name": "python3"
    }
  },
  "nbformat": 4,
  "nbformat_minor": 0
}